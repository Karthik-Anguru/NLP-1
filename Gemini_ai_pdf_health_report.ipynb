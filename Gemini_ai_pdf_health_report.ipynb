{
  "nbformat": 4,
  "nbformat_minor": 0,
  "metadata": {
    "colab": {
      "provenance": [],
      "authorship_tag": "ABX9TyOqABn8i+yRAn1Bzl3o+7hc",
      "include_colab_link": true
    },
    "kernelspec": {
      "name": "python3",
      "display_name": "Python 3"
    },
    "language_info": {
      "name": "python"
    }
  },
  "cells": [
    {
      "cell_type": "markdown",
      "metadata": {
        "id": "view-in-github",
        "colab_type": "text"
      },
      "source": [
        "<a href=\"https://colab.research.google.com/github/Karthik-Anguru/NLP-1/blob/main/Gemini_ai_pdf_health_report.ipynb\" target=\"_parent\"><img src=\"https://colab.research.google.com/assets/colab-badge.svg\" alt=\"Open In Colab\"/></a>"
      ]
    },
    {
      "cell_type": "code",
      "execution_count": 3,
      "metadata": {
        "id": "gxMq-X-a8MPo"
      },
      "outputs": [],
      "source": [
        "import google.generativeai as genai\n",
        "from google.colab import userdata\n",
        "GOOGLE_API =userdata.get('GOOGLE_API')\n",
        "genai.configure(api_key=GOOGLE_API)\n"
      ]
    },
    {
      "cell_type": "code",
      "source": [
        "!pip install pyPDF2"
      ],
      "metadata": {
        "colab": {
          "base_uri": "https://localhost:8080/"
        },
        "id": "5b8xNQ40-RfG",
        "outputId": "e070c028-0f69-4acb-d1e6-62ae4982ef97"
      },
      "execution_count": 4,
      "outputs": [
        {
          "output_type": "stream",
          "name": "stdout",
          "text": [
            "Collecting pyPDF2\n",
            "  Downloading pypdf2-3.0.1-py3-none-any.whl.metadata (6.8 kB)\n",
            "Downloading pypdf2-3.0.1-py3-none-any.whl (232 kB)\n",
            "\u001b[?25l   \u001b[90m━━━━━━━━━━━━━━━━━━━━━━━━━━━━━━━━━━━━━━━━\u001b[0m \u001b[32m0.0/232.6 kB\u001b[0m \u001b[31m?\u001b[0m eta \u001b[36m-:--:--\u001b[0m\r\u001b[2K   \u001b[90m━━━━━━━━━━━━━━━━━━━━━━━━━━━━━━━━━━━━━━━━\u001b[0m \u001b[32m232.6/232.6 kB\u001b[0m \u001b[31m8.1 MB/s\u001b[0m eta \u001b[36m0:00:00\u001b[0m\n",
            "\u001b[?25hInstalling collected packages: pyPDF2\n",
            "Successfully installed pyPDF2-3.0.1\n"
          ]
        }
      ]
    },
    {
      "cell_type": "code",
      "source": [
        "import PyPDF2\n",
        "def extract_text_from_pdf(pdf_path):\n",
        "    text = \"\"\n",
        "    with open(pdf_path, 'rb') as file:\n",
        "        reader = PyPDF2.PdfReader(file)\n",
        "        for page in reader.pages:\n",
        "            text += page.extract_text() +\"\\n\"\n",
        "    return text\n"
      ],
      "metadata": {
        "id": "l5z8_kEY-0LE"
      },
      "execution_count": 9,
      "outputs": []
    },
    {
      "cell_type": "code",
      "source": [
        "def extract_health_insights(text):\n",
        "  model= genai.GenerativeModel(\"gemini-1.5-flash\")\n",
        "  prompt = f\"Extract key insights from the following health report:\\n\\n{text}\"\n",
        "  response = model.generate_content(prompt)\n",
        "  return response.text\n",
        "pdf_file = \"health_report.pdf\"\n",
        "extracted_text = extract_text_from_pdf(pdf_file)\n",
        "insights = extract_health_insights(extracted_text)\n",
        "print(\"Key Insights:\\n\",insights)"
      ],
      "metadata": {
        "colab": {
          "base_uri": "https://localhost:8080/",
          "height": 575
        },
        "id": "6UY-6fYH_b4k",
        "outputId": "236a5df3-97bc-463c-c96b-6e75e210a626"
      },
      "execution_count": 12,
      "outputs": [
        {
          "output_type": "stream",
          "name": "stdout",
          "text": [
            "Key Insights:\n",
            " Mr. Kishan Goud's (MR Number: MR2100003157) health report from February 1st, 2021, reveals the following key insights:\n",
            "\n",
            "**Infectious Diseases:**\n",
            "\n",
            "* **Negative for:** Dengue (NS1 antigen, IgG, IgM), Malaria (Plasmodium falciparum and vivax).\n",
            "* **Widal Test:** Elevated titers for *Salmonella Typhi* \"O\" (1:160) and \"H\" (1:80), suggesting a possible past or present typhoid infection.  The reference range is 1:20, indicating values significantly above the normal range.  *Salmonella Paratyphi* \"AH\" and \"BH\" titers were within the normal range.  Further investigation may be needed to confirm active typhoid infection.\n",
            "\n",
            "**Blood Analysis:**\n",
            "\n",
            "* **Complete Blood Picture (CBC):**  All values (Hemoglobin, RBC, WBC, Platelets, PCV, Differential Count) are within or very near the normal ranges, indicating no significant hematological abnormalities.\n",
            "* **Erythrocyte Sedimentation Rate (ESR):** Elevated (26 mm/hr in the first hour, 52 mm/hr in the second hour), suggesting inflammation or infection. This correlates with the elevated Widal test results.\n",
            "* **HbA1c:** 5.4%, within the normal non-diabetic range (4-6%), indicating good blood sugar control.\n",
            "\n",
            "**Liver Function Tests (LFTs):**\n",
            "\n",
            "* All liver function tests (bilirubin, alkaline phosphatase, SGOT, SGPT, total protein, albumin, globulin, A/G ratio) are within the normal ranges, indicating no apparent liver dysfunction.\n",
            "\n",
            "**Kidney Function Test:**\n",
            "\n",
            "* **Serum Creatinine:** 0.8 mg/dl, within the normal range (0.6-1.25 mg/dl), suggesting normal kidney function.\n",
            "\n",
            "**Electrolytes:**\n",
            "\n",
            "* **Serum Sodium:** Slightly low at 122 mmol/l (reference range 135-146 mmol/l).  This should be monitored.\n",
            "* **Serum Potassium:** Within the normal range (3.5 mmol/l).\n",
            "* **Serum Chloride:** Slightly low at 97 mmol/l (reference range 98-107 mmol/l). This should also be monitored.  The low sodium and chloride levels warrant further investigation to determine the cause.\n",
            "\n",
            "\n",
            "**Overall:** The report shows some evidence of a possible past or present typhoid infection (based on the Widal test) and an elevated ESR indicating inflammation.  The low sodium and chloride warrant further investigation.  All other parameters are within normal limits.  Further clinical evaluation and potentially additional tests are recommended to confirm the diagnosis and address the electrolyte abnormalities.\n",
            "\n"
          ]
        }
      ]
    },
    {
      "cell_type": "code",
      "source": [
        "def summarize_health_report(text):\n",
        "  model= genai.GenerativeModel(\"gemini-1.5-flash\")\n",
        "  prompt = f\"Summarize the following health report in a concise manner:\\n\\n{text}\"\n",
        "  response = model.generate_content(prompt)\n",
        "  return response.text\n",
        "summary = summarize_health_report(extracted_text)\n",
        "print(\"Summary:\\n\",summary)"
      ],
      "metadata": {
        "colab": {
          "base_uri": "https://localhost:8080/",
          "height": 89
        },
        "id": "eJYBkaKJB7HV",
        "outputId": "ad918532-f1b2-4551-cb34-59555c9ae9fe"
      },
      "execution_count": 13,
      "outputs": [
        {
          "output_type": "stream",
          "name": "stdout",
          "text": [
            "Summary:\n",
            " Mr. Kishan Goud's (MR2100003157) blood tests on 01/02/2021 showed:  Elevated ESR (26/52 mm/hr),  Widal test suggesting possible *Salmonella* Typhi exposure (titres higher than reference range),  negative dengue serology and malaria tests, normal complete blood count (CBC) and HbA1c (5.4%),  slightly low serum sodium (122 mmol/l), and normal liver function tests and serum creatinine.\n",
            "\n"
          ]
        }
      ]
    },
    {
      "cell_type": "code",
      "source": [
        "def detect_abnormalities(text):\n",
        "  model = genai.GenerativeModel(\"gemini-1.5-flash\")\n",
        "  prompt = f\"Analysis the lab test results in the following health report and highlight any abnormal values:\\n\\n{text}\"\n",
        "  response = model.generate_content(prompt)\n",
        "  return response.text\n",
        "abnormalites =detect_abnormalities(extracted_text)\n",
        "print(\"potential Abnormalites:\\n\",abnormalites)"
      ],
      "metadata": {
        "colab": {
          "base_uri": "https://localhost:8080/",
          "height": 453
        },
        "id": "2y36sAkpFEPF",
        "outputId": "5dd3a06a-6c3c-4118-cc78-44dc303a29b0"
      },
      "execution_count": 15,
      "outputs": [
        {
          "output_type": "stream",
          "name": "stdout",
          "text": [
            "potential Abnormalites:\n",
            " The lab results for Mr. Kishan Goud show several abnormal values:\n",
            "\n",
            "* **Widal Test:**  S. Typhi \"O\" (1:160) and S. Typhi \"H\" (1:80) are significantly elevated above the reference range (1:20). This suggests a possible past or current infection with *Salmonella Typhi*, the bacteria causing typhoid fever.  Further investigation and clinical correlation are needed.\n",
            "\n",
            "* **Erythrocyte Sedimentation Rate (ESR):** Both the 1st-hour (26 mm/hr) and 2nd-hour (52 mm/hr) ESR values are significantly elevated above the reference range (0-8 mm/hr).  This indicates inflammation or infection somewhere in the body.\n",
            "\n",
            "* **Serum Sodium:** The serum sodium level (122 mmol/l) is below the reference range (135-146 mmol/l), indicating hyponatremia (low sodium in the blood). This is a significant finding and requires further evaluation to determine the underlying cause.\n",
            "\n",
            "* **Serum Chloride:** The serum chloride level (97 mmol/l) is slightly below the lower limit of the reference range (98-107 mmol/l). While marginally low, it warrants attention in conjunction with the hyponatremia.\n",
            "\n",
            "\n",
            "**Values within or close to the reference range but warranting consideration in the context of other abnormalities:**\n",
            "\n",
            "* **RBC (Red Blood Cell count):** Slightly below the lower limit of the reference range.  This might be related to the overall picture of inflammation.\n",
            "\n",
            "* **Platelet Count:** While within the reference range, it's on the lower end.\n",
            "\n",
            "\n",
            "**All other test results (Dengue serology, Malaria test, Complete Blood Picture (most components), Liver Function Test (most components), HbA1c, Creatinine, Blood Glucose) are within the reference ranges.**\n",
            "\n",
            "\n",
            "**Important Note:** This analysis is based solely on the provided lab results.  It is crucial to understand that these results must be interpreted in conjunction with the patient's clinical presentation, medical history, and other relevant information by a qualified healthcare professional.  The significantly elevated Widal test and ESR, along with hyponatremia, suggest the need for further investigation and management by a physician.\n",
            "\n"
          ]
        }
      ]
    },
    {
      "cell_type": "code",
      "source": [
        "def explain_medical_terms(text):\n",
        "  model = genai.GenerativeModel(\"gemini-1.5-flash\")\n",
        "  prompt = f\"Explain the medical terms in the following health report in simple language:\\n\\n{text}\"\n",
        "  response = model.generate_content(prompt)\n",
        "  return response.text\n",
        "explanation =explain_medical_terms(extracted_text)\n",
        "print(\"Simplified Explanation:\\n\",explanation)"
      ],
      "metadata": {
        "colab": {
          "base_uri": "https://localhost:8080/",
          "height": 1000
        },
        "id": "Vy8-CzftHDiG",
        "outputId": "e8761ddf-6de5-4728-e343-533f57b141f8"
      },
      "execution_count": 16,
      "outputs": [
        {
          "output_type": "stream",
          "name": "stdout",
          "text": [
            "Simplified Explanation:\n",
            " This report shows the results of various blood tests performed on Mr. Kishan Goud. Let's break down the results in simple terms:\n",
            "\n",
            "**1. Widal Test (for Typhoid Fever):**\n",
            "\n",
            "* **S. Typhi \"O\" 1:160:** This tests for antibodies against *Salmonella Typhi*, a bacteria causing typhoid.  A result of 1:160 suggests a possible past or present typhoid infection.  The higher the number, the stronger the indication.  The reference range of 1:20 means results below this are considered negative.\n",
            "* **S. Typhi \"H\" 1:80:** Similar to above, but a different part of the bacteria.  Again,  a result above the reference range suggests possible typhoid.\n",
            "* **S. Paratyphi \"AH\" 1:20:** Tests for antibodies against *Salmonella Paratyphi A*, another bacteria that can cause a typhoid-like illness. This result is within the normal range.\n",
            "* **S. Paratyphi \"BH\" 1:20:**  Tests for antibodies against *Salmonella Paratyphi B*. This result is within the normal range.\n",
            "\n",
            "**In summary for Widal:**  The slightly elevated S. Typhi \"O\" and \"H\" titres suggest a *possible* past or present typhoid infection.  However, this test isn't definitive on its own and further investigation might be needed.\n",
            "\n",
            "**2. Dengue Serology:**  Tests for dengue fever.\n",
            "\n",
            "* **Dengue NS1 Antigen, IgG, IgM:** All negative. This means there's no evidence of a current or past dengue infection.\n",
            "\n",
            "**3. Erythrocyte Sedimentation Rate (ESR):** Measures how quickly red blood cells settle in a test tube.  A high ESR can indicate inflammation or infection in the body.\n",
            "\n",
            "* **ESR 1st Hour 26 mm/hr:** This is slightly elevated (above the normal range of 0-8 mm/hr).\n",
            "* **ESR 2nd Hour 52 mm/hr:** Even more elevated.\n",
            "\n",
            "**In summary for ESR:** This suggests there might be some inflammation or infection present.  Further investigation is needed to pinpoint the cause.\n",
            "\n",
            "**4. Rapid Malaria Test:** Tests for malaria parasites.\n",
            "\n",
            "* **P.V (Plasmodium vivax) and P.F (Plasmodium falciparum):** Both negative. This means no malaria infection was detected.\n",
            "\n",
            "**5. Complete Blood Picture (CBC):**  A comprehensive assessment of blood components.\n",
            "\n",
            "* **Hemoglobin (Hb):** 13.6 gms% (normal). This measures the oxygen-carrying capacity of red blood cells.\n",
            "* **Red Blood Cells (RBC):** 4.3 mill/cumm (slightly low, but within the normal range).\n",
            "* **White Blood Cells (WBC):** 7200 cells/cumm (normal).  These fight infection.\n",
            "* **Platelets:** 2.0 lakhs/cumm (normal). These help with blood clotting.\n",
            "* **Packed Cell Volume (PCV):** 40.5% (normal).  The percentage of red blood cells in the blood.\n",
            "* **Differential Count:** Shows the percentages of different types of white blood cells.  All are within normal limits.\n",
            "* **Peripheral Blood Smear:**  Microscopic examination of blood; all findings are within the normal range.\n",
            "\n",
            "**In summary for CBC:** Overall blood counts are mostly normal.\n",
            "\n",
            "\n",
            "**6. HbA1c:** Measures average blood sugar levels over the past 2-3 months.\n",
            "\n",
            "* **HbA1c 5.4%:** This indicates good blood sugar control, within the normal non-diabetic range.\n",
            "\n",
            "**7. Serum Creatinine:** Measures kidney function.\n",
            "\n",
            "* **Serum Creatinine 0.8 mg/dl:**  This is within the normal range, suggesting normal kidney function.\n",
            "\n",
            "**8. Random Blood Glucose:** Measures blood sugar level at a random time.\n",
            "\n",
            "* **Random Blood Glucose:** The specific value is missing from your provided text but it's tested using the GOD-POD Method.  The normal range is 60-170 mg/dl.\n",
            "\n",
            "**9. Liver Function Test (LFT):** Assesses liver health.  All values (total bilirubin, direct bilirubin, indirect bilirubin, alkaline phosphatase, SGOT, SGPT, total protein, albumin, globulin, A/G ratio) are within normal ranges.\n",
            "\n",
            "**10. Serum Electrolytes:** Measures levels of important salts in the blood.\n",
            "\n",
            "* **Sodium:** Slightly low (122 mmol/l; normal 135-146 mmol/l).\n",
            "* **Potassium:** Normal (3.5 mmol/l).\n",
            "* **Chloride:** Slightly low (97 mmol/l; normal 98-107 mmol/l).\n",
            "\n",
            "\n",
            "**Overall:**  The report shows mostly normal results, but some values are slightly outside of the ideal ranges (ESR, slightly low sodium and chloride), and there is a suggestion of a past or present typhoid infection.  The doctor should interpret these results in the context of Mr. Kishan Goud's symptoms and medical history to determine the next steps.  This explanation is for informational purposes only and does not constitute medical advice.  Consult with a physician for proper interpretation and guidance.\n",
            "\n"
          ]
        }
      ]
    },
    {
      "cell_type": "code",
      "source": [],
      "metadata": {
        "id": "1K-VHgX0Ii33"
      },
      "execution_count": null,
      "outputs": []
    }
  ]
}